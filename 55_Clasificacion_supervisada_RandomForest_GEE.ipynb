{
 "cells": [
  {
   "cell_type": "markdown",
   "id": "f2350176-6d6f-4a98-a233-a0a8ef9a9c44",
   "metadata": {},
   "source": [
    "# Clasificacion supervisada RandomForest"
   ]
  },
  {
   "cell_type": "code",
   "execution_count": 5,
   "id": "9b8de841-4c11-4a99-8e61-e52eee5b8f3b",
   "metadata": {},
   "outputs": [],
   "source": [
    "# Importar paquete GEE\n",
    "import ee\n",
    "ee.Initialize()"
   ]
  },
  {
   "cell_type": "markdown",
   "id": "95dd8211-cf47-45db-81aa-979799bdde27",
   "metadata": {},
   "source": [
    "## Filtro zona estudio mediante GEE"
   ]
  },
  {
   "cell_type": "code",
   "execution_count": null,
   "id": "f22b77f7-7c85-4d4d-ac5f-750ce5e01f98",
   "metadata": {},
   "outputs": [],
   "source": [
    "# Agregar un shp GEE\n",
    "zona_ee = ee.FeatureCollection(\"users/geoprocesamiento/Vichada_meta\")"
   ]
  },
  {
   "cell_type": "code",
   "execution_count": 4,
   "id": "c00d19e0-a9ab-4c97-94de-57db6fbe8cf2",
   "metadata": {},
   "outputs": [
    {
     "data": {
      "application/vnd.jupyter.widget-view+json": {
       "model_id": "e20409d35ad44559a137f8cf8aa98ecc",
       "version_major": 2,
       "version_minor": 0
      },
      "text/plain": [
       "Map(center=[40, -100], controls=(WidgetControl(options=['position', 'transparent_bg'], widget=HBox(children=(T…"
      ]
     },
     "metadata": {},
     "output_type": "display_data"
    }
   ],
   "source": [
    "# Importar geemap\n",
    "import geemap\n",
    "Map = geemap.Map(basemap='ESRI')\n",
    "Map"
   ]
  },
  {
   "cell_type": "code",
   "execution_count": 6,
   "id": "df9218ea-05d9-496b-a410-22f1cd7d193a",
   "metadata": {},
   "outputs": [],
   "source": [
    "geometria = zona_ee.geometry()\n",
    "Map.centerObject(geometria,11)"
   ]
  },
  {
   "cell_type": "code",
   "execution_count": 5,
   "id": "d84925f3-007d-439a-8af4-f124662961c2",
   "metadata": {},
   "outputs": [
    {
     "data": {
      "application/vnd.jupyter.widget-view+json": {
       "model_id": "e20409d35ad44559a137f8cf8aa98ecc",
       "version_major": 2,
       "version_minor": 0
      },
      "text/plain": [
       "Map(bottom=8781415.333343506, center=[-8.39212494170386, -74.58093881185471], controls=(WidgetControl(options=…"
      ]
     },
     "metadata": {},
     "output_type": "display_data"
    }
   ],
   "source": [
    "Map.addLayer(zona_ee, {\"color\" : \"green\"},name = \"Zona estudio\")\n",
    "Map"
   ]
  },
  {
   "cell_type": "markdown",
   "id": "c3f97194-74f3-4b71-a127-3e88a6ccf689",
   "metadata": {},
   "source": [
    "## Seleccion de imagen"
   ]
  },
  {
   "cell_type": "code",
   "execution_count": 7,
   "id": "aed6149c-6517-427e-b627-b11d46287ee9",
   "metadata": {},
   "outputs": [],
   "source": [
    "# Seleccionar una imagen Landsat8\n",
    "img_L8 = ee.Image(\"LANDSAT/LC08/C01/T1_SR/LC08_003069_20190808\")\\\n",
    "             .select(['B2', 'B3', 'B4', 'B5', 'B6', 'B7'],\n",
    "                     ['BLUE', 'GREEN', 'RED', 'NIR', 'SWIR1', 'SWIR2'])\\\n",
    "             .multiply(0.0001)\\\n",
    "             .clip(zona_ee)\\\n",
    "             .reproject(crs=\"EPSG:32719\", scale = 30)"
   ]
  },
  {
   "cell_type": "code",
   "execution_count": 8,
   "id": "e1f74b3f-67f3-4f49-af84-092606bb55ef",
   "metadata": {},
   "outputs": [
    {
     "data": {
      "text/plain": [
       "['BLUE', 'GREEN', 'RED', 'NIR', 'SWIR1', 'SWIR2']"
      ]
     },
     "execution_count": 8,
     "metadata": {},
     "output_type": "execute_result"
    }
   ],
   "source": [
    "# Nombre de las bandas\n",
    "img_L8.bandNames().getInfo()"
   ]
  },
  {
   "cell_type": "code",
   "execution_count": 9,
   "id": "14361f01-78d8-4feb-a457-7d0734a3cce8",
   "metadata": {},
   "outputs": [],
   "source": [
    "# Simbologia escala 0 - 1\n",
    "viz_es = {\n",
    "    'bands': ['SWIR1','NIR','RED'],\n",
    "    'min': 0.1,\n",
    "    'max': 0.6,\n",
    "    'gamma': 1.6\n",
    "}"
   ]
  },
  {
   "cell_type": "code",
   "execution_count": 10,
   "id": "e29afdb3-f822-43a1-917e-310ee3c4ec72",
   "metadata": {},
   "outputs": [
    {
     "data": {
      "application/vnd.jupyter.widget-view+json": {
       "model_id": "e20409d35ad44559a137f8cf8aa98ecc",
       "version_major": 2,
       "version_minor": 0
      },
      "text/plain": [
       "Map(bottom=281405.0, center=[-12.908744902436744, -69.9947155021359], controls=(WidgetControl(options=['positi…"
      ]
     },
     "metadata": {},
     "output_type": "display_data"
    }
   ],
   "source": [
    "Map.addLayer(img_L8, viz_es,name = \"Landsat8 RS\")\n",
    "Map"
   ]
  },
  {
   "cell_type": "code",
   "execution_count": 11,
   "id": "2b073840-6b67-482b-99cf-5fbe462663e9",
   "metadata": {},
   "outputs": [],
   "source": [
    "Agua = (Map.user_rois).geometry()"
   ]
  },
  {
   "cell_type": "code",
   "execution_count": 16,
   "id": "bb8d30cf-3c0b-420f-902c-ff7cdec3dee5",
   "metadata": {},
   "outputs": [],
   "source": [
    "features = []\n",
    "for i in Agua.getInfo()[\"coordinates\"]:\n",
    "    F_agua = ee.Feature(ee.Geometry.Point(i), {\"Clase\" : 1,\"Cobertura\":\"Agua\"})\n",
    "    features.append(F_agua)"
   ]
  },
  {
   "cell_type": "code",
   "execution_count": 19,
   "id": "3ea3f792-8f3f-483c-9634-bcd1dbbaf0ae",
   "metadata": {},
   "outputs": [],
   "source": [
    "Bosque = (Map.user_rois).geometry()"
   ]
  },
  {
   "cell_type": "code",
   "execution_count": 20,
   "id": "c72f9ebf-e442-4a26-82a5-c73b772f9661",
   "metadata": {},
   "outputs": [],
   "source": [
    "for i in Bosque.getInfo()[\"coordinates\"]:\n",
    "    F_Bosque = ee.Feature(ee.Geometry.Point(i), {\"Clase\" : 2, \"Cobertura\":\"Bosque\"})\n",
    "    features.append(F_Bosque)"
   ]
  },
  {
   "cell_type": "code",
   "execution_count": 22,
   "id": "c5a8f7e9-6b4b-4d1c-9fe4-98ec37d38819",
   "metadata": {},
   "outputs": [],
   "source": [
    "Pastizal = (Map.user_rois).geometry()"
   ]
  },
  {
   "cell_type": "code",
   "execution_count": 23,
   "id": "8ddfb79a-7d84-45fb-83bd-20cc275cebe4",
   "metadata": {},
   "outputs": [],
   "source": [
    "for i in Pastizal.getInfo()[\"coordinates\"]:\n",
    "    F_Pastizal = ee.Feature(ee.Geometry.Point(i), {\"Clase\" : 3, \"Cobertura\":\"Pastizal\"})\n",
    "    features.append(F_Pastizal)"
   ]
  },
  {
   "cell_type": "code",
   "execution_count": 24,
   "id": "5eb83ab1-7f66-4032-9871-16f9454e7def",
   "metadata": {},
   "outputs": [],
   "source": [
    "Suelo = (Map.user_rois).geometry()"
   ]
  },
  {
   "cell_type": "code",
   "execution_count": 25,
   "id": "b94edc44-f285-4070-ab4f-de7226ed5ef8",
   "metadata": {},
   "outputs": [],
   "source": [
    "for i in Suelo.getInfo()[\"coordinates\"]:\n",
    "    F_Suelo = ee.Feature(ee.Geometry.Point(i), {\"Clase\" : 4, \"Cobertura\":\"Suelo\"})\n",
    "    features.append(F_Suelo)"
   ]
  },
  {
   "cell_type": "code",
   "execution_count": 27,
   "id": "de9629f2-d8c6-4ae6-9a2a-9b0e38f59808",
   "metadata": {},
   "outputs": [],
   "source": [
    "# ROI Entrenamiento\n",
    "ROI = ee.FeatureCollection(features)"
   ]
  },
  {
   "cell_type": "code",
   "execution_count": 28,
   "id": "5d796914-628d-447d-bfe6-297f5c299894",
   "metadata": {},
   "outputs": [
    {
     "data": {
      "application/vnd.jupyter.widget-view+json": {
       "model_id": "e20409d35ad44559a137f8cf8aa98ecc",
       "version_major": 2,
       "version_minor": 0
      },
      "text/plain": [
       "Map(bottom=140732.0, center=[-12.747516274952714, -69.82566833496095], controls=(WidgetControl(options=['posit…"
      ]
     },
     "metadata": {},
     "output_type": "display_data"
    }
   ],
   "source": [
    "Map.addLayer(ROI,{\"color\":\"red\"},\"ROI\")\n",
    "Map"
   ]
  },
  {
   "cell_type": "code",
   "execution_count": 29,
   "id": "2869f512-1991-4386-9751-cad9ddb16ce7",
   "metadata": {},
   "outputs": [],
   "source": [
    "# Crear random aleatorio en un campo random\n",
    "samples = ROI.randomColumn('random', 2000)"
   ]
  },
  {
   "cell_type": "code",
   "execution_count": 30,
   "id": "4ceec174-9fd2-4272-a9bd-60e0194876b4",
   "metadata": {},
   "outputs": [],
   "source": [
    "# Obtener un FeatureCollection de datos ROI\n",
    "set_datos = img_L8.sampleRegions(collection = samples,\n",
    "                                 properties = [\"Clase\",\"random\",\"Cobertura\"],\n",
    "                                 scale = 30,\n",
    "                                 projection = None,\n",
    "                                 tileScale = 1,\n",
    "                                 geometries = True)"
   ]
  },
  {
   "cell_type": "code",
   "execution_count": 31,
   "id": "b0a40d26-e7a2-400e-9623-4962d8fb6704",
   "metadata": {},
   "outputs": [],
   "source": [
    "# Separar datos entrenamiento y validacion\n",
    "split = 0.8  # Aproximadamente 80% de Entrenamiento, 20% de validacion\n",
    "training = set_datos.filter(ee.Filter.lt('random', split))\n",
    "testing = set_datos.filter(ee.Filter.gte('random', split))"
   ]
  },
  {
   "cell_type": "markdown",
   "id": "b8d83064-7f14-4683-a797-c5d8ed28c55d",
   "metadata": {},
   "source": [
    "## Exportar shapefile set datos"
   ]
  },
  {
   "cell_type": "code",
   "execution_count": 32,
   "id": "b6510523-c970-4633-ad8e-525602e5dc3a",
   "metadata": {},
   "outputs": [
    {
     "data": {
      "text/plain": [
       "'E:\\\\Teledeteccion_GEE\\\\Python\\\\Datos_Espaciales\\\\Resultados'"
      ]
     },
     "execution_count": 32,
     "metadata": {},
     "output_type": "execute_result"
    }
   ],
   "source": [
    "import os\n",
    "ruta_archivos = r\"E:\\Teledeteccion_GEE\\Python\\Datos_Espaciales\\Resultados\"\n",
    "os.chdir(ruta_archivos) # Cambiar ruta trabajo\n",
    "os.getcwd() # Consultar ruta trabajo"
   ]
  },
  {
   "cell_type": "code",
   "execution_count": 33,
   "id": "d176d26b-c870-44cb-9753-f72dd2b67280",
   "metadata": {},
   "outputs": [
    {
     "name": "stdout",
     "output_type": "stream",
     "text": [
      "Generating URL ...\n",
      "Downloading data from https://earthengine.googleapis.com/v1alpha/projects/earthengine-legacy/tables/df776f53b7af6f60f3ec79b763fd13bf-9e8ce52b19973e19e79be2e860995b58:getFeatures\n",
      "Please wait ...\n",
      "Data downloaded to E:\\Teledeteccion_GEE\\Python\\Datos_Espaciales\\Resultados\\ROI_completo.shp\n",
      "Generating URL ...\n",
      "Downloading data from https://earthengine.googleapis.com/v1alpha/projects/earthengine-legacy/tables/6cdbc727a42c13c05cc9fd153e8d56e0-d457a7c7458d5b052e22cdc296a8ca83:getFeatures\n",
      "Please wait ...\n",
      "Data downloaded to E:\\Teledeteccion_GEE\\Python\\Datos_Espaciales\\Resultados\\ROI_entrenamiento.shp\n",
      "Generating URL ...\n",
      "Downloading data from https://earthengine.googleapis.com/v1alpha/projects/earthengine-legacy/tables/761e2448351eddf34d5919ed3a07c320-f36395abf88689e90c4657f0d74a0ccb:getFeatures\n",
      "Please wait ...\n",
      "Data downloaded to E:\\Teledeteccion_GEE\\Python\\Datos_Espaciales\\Resultados\\ROI_validacion.shp\n"
     ]
    }
   ],
   "source": [
    "# Exportar shp\n",
    "# Datos ROI completo\n",
    "geemap.ee_to_shp(set_datos, \n",
    "                 filename = 'ROI_completo.shp')\n",
    "# Datos ROI entrenamiento\n",
    "geemap.ee_to_shp(training, \n",
    "                 filename = 'ROI_entrenamiento.shp')\n",
    "# Datos ROI Validacion\n",
    "geemap.ee_to_shp(testing, \n",
    "                 filename = 'ROI_validacion.shp')"
   ]
  },
  {
   "cell_type": "markdown",
   "id": "6a404b11-dcd8-4c1b-86cf-1d6704b9ca3f",
   "metadata": {},
   "source": [
    "## Parámetro clasificación RandomForest"
   ]
  },
  {
   "cell_type": "code",
   "execution_count": 35,
   "id": "d41bbe47-2279-41c4-ab65-3eec4af593cd",
   "metadata": {},
   "outputs": [],
   "source": [
    "# seleccionar las bandas\n",
    "bandas_sel = ['BLUE', 'GREEN', 'RED', 'NIR', 'SWIR1', 'SWIR2']"
   ]
  },
  {
   "cell_type": "code",
   "execution_count": 36,
   "id": "5109160f-f18b-4dd9-9a7e-009359254862",
   "metadata": {},
   "outputs": [],
   "source": [
    "# Image classification\n",
    "classifier = ee.Classifier.smileRandomForest(100).train(training, 'Clase', bandas_sel);"
   ]
  },
  {
   "cell_type": "markdown",
   "id": "051cb81a-6599-446a-8de2-3fdec178165f",
   "metadata": {},
   "source": [
    "## Aplicar clasificación"
   ]
  },
  {
   "cell_type": "code",
   "execution_count": 37,
   "id": "9e80ed67-297f-4f85-a501-af4a68078724",
   "metadata": {},
   "outputs": [],
   "source": [
    "# clasificación con el modelo entrenado\n",
    "clasificacion_RF = img_L8.classify(classifier)"
   ]
  },
  {
   "cell_type": "code",
   "execution_count": 38,
   "id": "27edc6ec-9527-4faa-b452-12ccd7cd3748",
   "metadata": {},
   "outputs": [],
   "source": [
    "# Simbologia clasificacion\n",
    "viz_clas = {\n",
    "    'palette': [\"blue\",\"green\", \"#08e723\", \"red\"],\n",
    "    'min': 1,\n",
    "    'max': 4\n",
    "}"
   ]
  },
  {
   "cell_type": "code",
   "execution_count": 39,
   "id": "e0f8e33f-c3b8-4ceb-a0fd-31b114acd55f",
   "metadata": {},
   "outputs": [
    {
     "data": {
      "application/vnd.jupyter.widget-view+json": {
       "model_id": "e20409d35ad44559a137f8cf8aa98ecc",
       "version_major": 2,
       "version_minor": 0
      },
      "text/plain": [
       "Map(bottom=281519.0, center=[-12.98515498538087, -69.98119354248048], controls=(WidgetControl(options=['positi…"
      ]
     },
     "metadata": {},
     "output_type": "display_data"
    }
   ],
   "source": [
    "Map.addLayer(clasificacion_RF, viz_clas, name = \"class_RF\")\n",
    "Map"
   ]
  },
  {
   "cell_type": "markdown",
   "id": "7d219e7e-fa3d-4595-890d-b8c07bd84e2b",
   "metadata": {},
   "source": [
    "## Conversion de Shapefile a Pandas"
   ]
  },
  {
   "cell_type": "code",
   "execution_count": 40,
   "id": "d4e7913f-4bc4-4cee-9614-586f489754c1",
   "metadata": {},
   "outputs": [
    {
     "data": {
      "text/html": [
       "<div>\n",
       "<style scoped>\n",
       "    .dataframe tbody tr th:only-of-type {\n",
       "        vertical-align: middle;\n",
       "    }\n",
       "\n",
       "    .dataframe tbody tr th {\n",
       "        vertical-align: top;\n",
       "    }\n",
       "\n",
       "    .dataframe thead th {\n",
       "        text-align: right;\n",
       "    }\n",
       "</style>\n",
       "<table border=\"1\" class=\"dataframe\">\n",
       "  <thead>\n",
       "    <tr style=\"text-align: right;\">\n",
       "      <th></th>\n",
       "      <th>random</th>\n",
       "      <th>Cobertura</th>\n",
       "      <th>Clase</th>\n",
       "      <th>RED</th>\n",
       "      <th>BLUE</th>\n",
       "      <th>NIR</th>\n",
       "      <th>GREEN</th>\n",
       "      <th>SWIR1</th>\n",
       "      <th>SWIR2</th>\n",
       "    </tr>\n",
       "  </thead>\n",
       "  <tbody>\n",
       "    <tr>\n",
       "      <th>0</th>\n",
       "      <td>0.965318</td>\n",
       "      <td>Agua</td>\n",
       "      <td>1</td>\n",
       "      <td>0.2024</td>\n",
       "      <td>0.0615</td>\n",
       "      <td>0.0878</td>\n",
       "      <td>0.1439</td>\n",
       "      <td>0.0040</td>\n",
       "      <td>0.0026</td>\n",
       "    </tr>\n",
       "    <tr>\n",
       "      <th>1</th>\n",
       "      <td>0.505567</td>\n",
       "      <td>Agua</td>\n",
       "      <td>1</td>\n",
       "      <td>0.2022</td>\n",
       "      <td>0.0617</td>\n",
       "      <td>0.0889</td>\n",
       "      <td>0.1434</td>\n",
       "      <td>0.0043</td>\n",
       "      <td>0.0026</td>\n",
       "    </tr>\n",
       "    <tr>\n",
       "      <th>2</th>\n",
       "      <td>0.133367</td>\n",
       "      <td>Agua</td>\n",
       "      <td>1</td>\n",
       "      <td>0.2021</td>\n",
       "      <td>0.0625</td>\n",
       "      <td>0.0887</td>\n",
       "      <td>0.1449</td>\n",
       "      <td>0.0050</td>\n",
       "      <td>0.0032</td>\n",
       "    </tr>\n",
       "    <tr>\n",
       "      <th>3</th>\n",
       "      <td>0.396335</td>\n",
       "      <td>Agua</td>\n",
       "      <td>1</td>\n",
       "      <td>0.2030</td>\n",
       "      <td>0.0625</td>\n",
       "      <td>0.0882</td>\n",
       "      <td>0.1449</td>\n",
       "      <td>0.0044</td>\n",
       "      <td>0.0024</td>\n",
       "    </tr>\n",
       "    <tr>\n",
       "      <th>4</th>\n",
       "      <td>0.030215</td>\n",
       "      <td>Agua</td>\n",
       "      <td>1</td>\n",
       "      <td>0.2031</td>\n",
       "      <td>0.0621</td>\n",
       "      <td>0.0893</td>\n",
       "      <td>0.1455</td>\n",
       "      <td>0.0051</td>\n",
       "      <td>0.0030</td>\n",
       "    </tr>\n",
       "  </tbody>\n",
       "</table>\n",
       "</div>"
      ],
      "text/plain": [
       "     random Cobertura  Clase     RED    BLUE     NIR   GREEN   SWIR1   SWIR2\n",
       "0  0.965318      Agua      1  0.2024  0.0615  0.0878  0.1439  0.0040  0.0026\n",
       "1  0.505567      Agua      1  0.2022  0.0617  0.0889  0.1434  0.0043  0.0026\n",
       "2  0.133367      Agua      1  0.2021  0.0625  0.0887  0.1449  0.0050  0.0032\n",
       "3  0.396335      Agua      1  0.2030  0.0625  0.0882  0.1449  0.0044  0.0024\n",
       "4  0.030215      Agua      1  0.2031  0.0621  0.0893  0.1455  0.0051  0.0030"
      ]
     },
     "execution_count": 40,
     "metadata": {},
     "output_type": "execute_result"
    }
   ],
   "source": [
    "dataframe = geemap.ee_to_pandas(set_datos)\n",
    "dataframe.head()"
   ]
  },
  {
   "cell_type": "code",
   "execution_count": 41,
   "id": "044e4623-bc99-4add-bc64-edeeb2dd0f2f",
   "metadata": {},
   "outputs": [],
   "source": [
    "dataframe.to_csv(\"Coberta_ROI.csv\")"
   ]
  },
  {
   "cell_type": "code",
   "execution_count": 42,
   "id": "7b828c9c-2207-4fa3-91ac-93823c4e060e",
   "metadata": {},
   "outputs": [
    {
     "data": {
      "text/plain": [
       "array(['Agua', 'Bosque', 'Pastizal', 'Suelo'], dtype=object)"
      ]
     },
     "execution_count": 42,
     "metadata": {},
     "output_type": "execute_result"
    }
   ],
   "source": [
    "lista_cobertura = dataframe[\"Cobertura\"].unique()\n",
    "lista_cobertura"
   ]
  },
  {
   "cell_type": "markdown",
   "id": "3af80eed-ad7a-4daa-b1ad-759ef04d7277",
   "metadata": {},
   "source": [
    "## Matriz de confusión y precisión"
   ]
  },
  {
   "cell_type": "code",
   "execution_count": 43,
   "id": "0011e8e4-f08a-40c9-9340-dd70fd053b05",
   "metadata": {},
   "outputs": [],
   "source": [
    "validation = testing.classify(classifier);\n",
    "errorMatrix = validation.errorMatrix('Clase', 'classification');"
   ]
  },
  {
   "cell_type": "code",
   "execution_count": 44,
   "id": "3e95c63b-05d0-4398-8ed6-90b2f0a2d253",
   "metadata": {},
   "outputs": [
    {
     "data": {
      "text/plain": [
       "[[0, 0, 0, 0, 0],\n",
       " [0, 8, 0, 0, 0],\n",
       " [0, 0, 8, 1, 0],\n",
       " [0, 0, 0, 5, 0],\n",
       " [0, 0, 1, 0, 7]]"
      ]
     },
     "execution_count": 44,
     "metadata": {},
     "output_type": "execute_result"
    }
   ],
   "source": [
    "Matriz = errorMatrix.getInfo()\n",
    "Matriz"
   ]
  },
  {
   "cell_type": "code",
   "execution_count": 45,
   "id": "d23ef826-871f-4327-8f96-c900f6c37133",
   "metadata": {},
   "outputs": [],
   "source": [
    "import pandas as pd\n",
    "import numpy as np"
   ]
  },
  {
   "cell_type": "code",
   "execution_count": 46,
   "id": "bee12fe5-929d-4194-8132-54fb9b06f110",
   "metadata": {},
   "outputs": [
    {
     "data": {
      "text/html": [
       "<div>\n",
       "<style scoped>\n",
       "    .dataframe tbody tr th:only-of-type {\n",
       "        vertical-align: middle;\n",
       "    }\n",
       "\n",
       "    .dataframe tbody tr th {\n",
       "        vertical-align: top;\n",
       "    }\n",
       "\n",
       "    .dataframe thead th {\n",
       "        text-align: right;\n",
       "    }\n",
       "</style>\n",
       "<table border=\"1\" class=\"dataframe\">\n",
       "  <thead>\n",
       "    <tr style=\"text-align: right;\">\n",
       "      <th></th>\n",
       "      <th>Eliminar</th>\n",
       "      <th>Agua</th>\n",
       "      <th>Bosque</th>\n",
       "      <th>Pastizal</th>\n",
       "      <th>Suelo</th>\n",
       "    </tr>\n",
       "  </thead>\n",
       "  <tbody>\n",
       "    <tr>\n",
       "      <th>Eliminar</th>\n",
       "      <td>0</td>\n",
       "      <td>0</td>\n",
       "      <td>0</td>\n",
       "      <td>0</td>\n",
       "      <td>0</td>\n",
       "    </tr>\n",
       "    <tr>\n",
       "      <th>Agua</th>\n",
       "      <td>0</td>\n",
       "      <td>8</td>\n",
       "      <td>0</td>\n",
       "      <td>0</td>\n",
       "      <td>0</td>\n",
       "    </tr>\n",
       "    <tr>\n",
       "      <th>Bosque</th>\n",
       "      <td>0</td>\n",
       "      <td>0</td>\n",
       "      <td>8</td>\n",
       "      <td>1</td>\n",
       "      <td>0</td>\n",
       "    </tr>\n",
       "    <tr>\n",
       "      <th>Pastizal</th>\n",
       "      <td>0</td>\n",
       "      <td>0</td>\n",
       "      <td>0</td>\n",
       "      <td>5</td>\n",
       "      <td>0</td>\n",
       "    </tr>\n",
       "    <tr>\n",
       "      <th>Suelo</th>\n",
       "      <td>0</td>\n",
       "      <td>0</td>\n",
       "      <td>1</td>\n",
       "      <td>0</td>\n",
       "      <td>7</td>\n",
       "    </tr>\n",
       "  </tbody>\n",
       "</table>\n",
       "</div>"
      ],
      "text/plain": [
       "          Eliminar  Agua  Bosque  Pastizal  Suelo\n",
       "Eliminar         0     0       0         0      0\n",
       "Agua             0     8       0         0      0\n",
       "Bosque           0     0       8         1      0\n",
       "Pastizal         0     0       0         5      0\n",
       "Suelo            0     0       1         0      7"
      ]
     },
     "execution_count": 46,
     "metadata": {},
     "output_type": "execute_result"
    }
   ],
   "source": [
    "trainCM = pd.DataFrame(np.asarray(Matriz), \n",
    "                       index=['Eliminar','Agua', 'Bosque', 'Pastizal', 'Suelo'], \n",
    "                       columns=['Eliminar','Agua', 'Bosque', 'Pastizal', 'Suelo'])\n",
    "trainCM"
   ]
  },
  {
   "cell_type": "code",
   "execution_count": 47,
   "id": "34850b5e-f150-41b3-9e78-a8aa9df6a9a9",
   "metadata": {},
   "outputs": [],
   "source": [
    "# Eliminar columna por etiqueta\n",
    "trainCM_1 = trainCM.drop(labels = [\"Eliminar\"], axis = 1)"
   ]
  },
  {
   "cell_type": "code",
   "execution_count": 48,
   "id": "0a6c0df8-fd6b-4fb3-ba5d-8ed311c955eb",
   "metadata": {},
   "outputs": [
    {
     "data": {
      "text/html": [
       "<div>\n",
       "<style scoped>\n",
       "    .dataframe tbody tr th:only-of-type {\n",
       "        vertical-align: middle;\n",
       "    }\n",
       "\n",
       "    .dataframe tbody tr th {\n",
       "        vertical-align: top;\n",
       "    }\n",
       "\n",
       "    .dataframe thead th {\n",
       "        text-align: right;\n",
       "    }\n",
       "</style>\n",
       "<table border=\"1\" class=\"dataframe\">\n",
       "  <thead>\n",
       "    <tr style=\"text-align: right;\">\n",
       "      <th></th>\n",
       "      <th>Agua</th>\n",
       "      <th>Bosque</th>\n",
       "      <th>Pastizal</th>\n",
       "      <th>Suelo</th>\n",
       "    </tr>\n",
       "  </thead>\n",
       "  <tbody>\n",
       "    <tr>\n",
       "      <th>Agua</th>\n",
       "      <td>8</td>\n",
       "      <td>0</td>\n",
       "      <td>0</td>\n",
       "      <td>0</td>\n",
       "    </tr>\n",
       "    <tr>\n",
       "      <th>Bosque</th>\n",
       "      <td>0</td>\n",
       "      <td>8</td>\n",
       "      <td>1</td>\n",
       "      <td>0</td>\n",
       "    </tr>\n",
       "    <tr>\n",
       "      <th>Pastizal</th>\n",
       "      <td>0</td>\n",
       "      <td>0</td>\n",
       "      <td>5</td>\n",
       "      <td>0</td>\n",
       "    </tr>\n",
       "    <tr>\n",
       "      <th>Suelo</th>\n",
       "      <td>0</td>\n",
       "      <td>1</td>\n",
       "      <td>0</td>\n",
       "      <td>7</td>\n",
       "    </tr>\n",
       "  </tbody>\n",
       "</table>\n",
       "</div>"
      ],
      "text/plain": [
       "          Agua  Bosque  Pastizal  Suelo\n",
       "Agua         8       0         0      0\n",
       "Bosque       0       8         1      0\n",
       "Pastizal     0       0         5      0\n",
       "Suelo        0       1         0      7"
      ]
     },
     "execution_count": 48,
     "metadata": {},
     "output_type": "execute_result"
    }
   ],
   "source": [
    "trainCM_2 = trainCM_1.drop(labels = [\"Eliminar\"], axis = 0)\n",
    "trainCM_2"
   ]
  },
  {
   "cell_type": "code",
   "execution_count": 49,
   "id": "76bfc108-1d53-42f4-a93b-9dea53a129d7",
   "metadata": {},
   "outputs": [],
   "source": [
    "import matplotlib.pyplot as plt\n",
    "import seaborn as sns"
   ]
  },
  {
   "cell_type": "code",
   "execution_count": 50,
   "id": "5085e7cd-66f6-4426-b97d-735a05bccf00",
   "metadata": {},
   "outputs": [
    {
     "data": {
      "image/png": "[encoded data removed]",
      "text/plain": [
       "<Figure size 432x432 with 2 Axes>"
      ]
     },
     "metadata": {
      "needs_background": "light"
     },
     "output_type": "display_data"
    }
   ],
   "source": [
    "fig, ax = plt.subplots(1, figsize=(6,6))\n",
    "sns.heatmap(trainCM_2/trainCM_2.sum(axis=1), annot=True)\n",
    "ax.set_xlabel('Modelo predictivo', fontsize=20)\n",
    "ax.set_ylabel('Actual', fontsize=20)\n",
    "plt.title(\"Matriz de confusión\", fontsize=20);"
   ]
  },
  {
   "cell_type": "markdown",
   "id": "cc51ad7b-6361-4299-b36b-4bbef3b99390",
   "metadata": {},
   "source": [
    "## Precisión de la clasificación"
   ]
  },
  {
   "cell_type": "code",
   "execution_count": 51,
   "id": "e805c1cd-40aa-4f8d-9028-b062bea8ec46",
   "metadata": {},
   "outputs": [
    {
     "name": "stdout",
     "output_type": "stream",
     "text": [
      "Exactitud General: 0.9333333333333333\n",
      "Indice Kappa: 0.9103139013452916\n"
     ]
    }
   ],
   "source": [
    "# precisión de la clasificación\n",
    "print('Exactitud General:', errorMatrix.accuracy().getInfo());\n",
    "print('Indice Kappa:', errorMatrix.kappa().getInfo())"
   ]
  },
  {
   "cell_type": "markdown",
   "id": "590907f8-4a1a-4c31-98d0-37a69852d130",
   "metadata": {},
   "source": [
    "## Exportar resultados"
   ]
  },
  {
   "cell_type": "code",
   "execution_count": 52,
   "id": "71467162-b1d9-4e86-b85b-91eacfc9cb3a",
   "metadata": {},
   "outputs": [
    {
     "data": {
      "text/plain": [
       "'E:\\\\Teledeteccion_GEE\\\\Python\\\\Datos_Espaciales\\\\Resultados'"
      ]
     },
     "execution_count": 52,
     "metadata": {},
     "output_type": "execute_result"
    }
   ],
   "source": [
    "os.getcwd()"
   ]
  },
  {
   "cell_type": "code",
   "execution_count": 53,
   "id": "ab2c171d-349a-440c-a9b7-fcb46d557311",
   "metadata": {},
   "outputs": [
    {
     "name": "stdout",
     "output_type": "stream",
     "text": [
      "Exporting LC08_003069_20190808_Clas_RF2 ...\n"
     ]
    }
   ],
   "source": [
    "# Exportar en google drive\n",
    "geemap.ee_export_image_to_drive(clasificacion_RF, \n",
    "                                description=\"LC08_003069_20190808\"+\"_Clas_RF2\",\n",
    "                                folder='GEE_Geomatica', \n",
    "                                region=geometria,\n",
    "                                scale=30)"
   ]
  },
  {
   "cell_type": "code",
   "execution_count": null,
   "id": "e9419edb-369e-4a16-94c8-732616804f5f",
   "metadata": {},
   "outputs": [],
   "source": []
  }
 ],
 "metadata": {
  "kernelspec": {
   "display_name": "Python 3 (ipykernel)",
   "language": "python",
   "name": "python3"
  },
  "language_info": {
   "codemirror_mode": {
    "name": "ipython",
    "version": 3
   },
   "file_extension": ".py",
   "mimetype": "text/x-python",
   "name": "python",
   "nbconvert_exporter": "python",
   "pygments_lexer": "ipython3",
   "version": "3.7.9"
  }
 },
 "nbformat": 4,
 "nbformat_minor": 5
}
